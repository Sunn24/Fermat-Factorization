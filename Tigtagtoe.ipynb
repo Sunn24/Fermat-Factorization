{
  "nbformat": 4,
  "nbformat_minor": 0,
  "metadata": {
    "colab": {
      "provenance": [],
      "include_colab_link": true
    },
    "kernelspec": {
      "name": "python3",
      "display_name": "Python 3"
    },
    "language_info": {
      "name": "python"
    }
  },
  "cells": [
    {
      "cell_type": "markdown",
      "metadata": {
        "id": "view-in-github",
        "colab_type": "text"
      },
      "source": [
        "<a href=\"https://colab.research.google.com/github/Sunn24/Fermat-Factorization/blob/main/Tigtagtoe.ipynb\" target=\"_parent\"><img src=\"https://colab.research.google.com/assets/colab-badge.svg\" alt=\"Open In Colab\"/></a>"
      ]
    },
    {
      "cell_type": "markdown",
      "source": [
        "# ทดลองหา Winning rate ของ Eggy chess (จาก RO)\n",
        "## code 80% ช่วยเขียนโดย ChatGPT ดังนั้น ถ้ามีอะไรผิดพลาด... ไปด่า ChatGPT 555555"
      ],
      "metadata": {
        "id": "x0lsK6JsNgRF"
      }
    },
    {
      "cell_type": "markdown",
      "source": [
        "import package ที่ต้องใช้ และ dataclass ไว้แทน struct"
      ],
      "metadata": {
        "id": "ceyXOh1zN0KV"
      }
    },
    {
      "cell_type": "code",
      "source": [
        "import random\n",
        "from dataclasses import dataclass"
      ],
      "metadata": {
        "id": "_qNfSKjlEnAq"
      },
      "execution_count": null,
      "outputs": []
    },
    {
      "cell_type": "markdown",
      "source": [
        "สร้าง PlayerInfo ไว้บอกว่ากำหนดว่า มีจำนวน หมากใหญ่, กลาง, เล็ก กี่ตัว? และ เดินไปแล้วกี่ครั้ง (ที่เก็บแยกตัวแปร เพราะเผื่อใช้สำหรับ UI)"
      ],
      "metadata": {
        "id": "KjHnovLdN_U4"
      }
    },
    {
      "cell_type": "code",
      "source": [
        "@dataclass\n",
        "class PlayerInfo:\n",
        "    big_move_limit: int\n",
        "    medium_move_limit: int\n",
        "    small_move_limit: int\n",
        "    big_moves_used: int\n",
        "    medium_moves_used: int\n",
        "    small_moves_used: int"
      ],
      "metadata": {
        "id": "wXTe4avFIMRs"
      },
      "execution_count": null,
      "outputs": []
    },
    {
      "cell_type": "markdown",
      "source": [
        "Check ผู้ชนะ XO แบบตาราง 3x3"
      ],
      "metadata": {
        "id": "vbZNiStqOYfF"
      }
    },
    {
      "cell_type": "code",
      "execution_count": null,
      "metadata": {
        "id": "_T-B9jx36dh4"
      },
      "outputs": [],
      "source": [
        "def check_winner(board):\n",
        "    # Check rows, columns, and diagonals for a winner\n",
        "    for row in board:\n",
        "        if all(cell == row[0] and cell != ' ' for cell in row):\n",
        "            return row[0]\n",
        "\n",
        "    for col in range(3):\n",
        "        if all(board[row][col] == board[0][col] and board[row][col] != ' ' for row in range(3)):\n",
        "            return board[0][col]\n",
        "\n",
        "    if board[0][0] == board[1][1] == board[2][2] and board[0][0] != ' ':\n",
        "        return board[0][0]\n",
        "\n",
        "    if board[0][2] == board[1][1] == board[2][0] and board[0][2] != ' ':\n",
        "        return board[0][2]\n",
        "\n",
        "    return None"
      ]
    },
    {
      "cell_type": "markdown",
      "source": [
        "* select_movable_cell function ที่จะให้ช่องที่ player สามารถเลือกลงหมากได้ คนเป็น array 1D ที่มีค่าของ tuple x,y (index ช่องที่เลือกได้)\n",
        "  *   board = ตารางปัจจุบัน ใครวางส่วนไหน เป็น array string 3x3 เป็นไปได้ 3 values ('X', 'O', ' ')\n",
        "  *   move_sizes = ตารางปัจจุบัน แต่บอกเป็น size ของหมากที่วาง เป็น array int 3x3 เป็นไปได้ 4 values (3, 2, 1, 0)\n",
        "    * 3 คือ หมากใหญ่สุด\n",
        "    * 2 คือ หมากกลาง\n",
        "    * 1 คือ หมากเล็ก\n",
        "    * 0 คือ ยังไม่วาง\n",
        "  * move_size คือ player กำลังจะวางหมากอะไร (3,2,1)\n",
        "  * current_player คือ player คนนี้คือใคร ('X', 'O')\n",
        "\n"
      ],
      "metadata": {
        "id": "8uRLVMiZOkV4"
      }
    },
    {
      "cell_type": "code",
      "source": [
        "def select_movable_cell(board, move_sizes, move_size, current_player):\n",
        "    # get all cell\n",
        "    all_cells = [(i, j) for i in range(3) for j in range(3) if (board[i][j] != current_player and move_sizes[i][j] < move_size) or board[i][j] == ' ']\n",
        "    if not all_cells:\n",
        "        return None  # Draw\n",
        "    return all_cells"
      ],
      "metadata": {
        "id": "I6TFt-e7LQOg"
      },
      "execution_count": null,
      "outputs": []
    },
    {
      "cell_type": "markdown",
      "source": [
        "\n",
        "\n",
        "*   select_move_size ไว้ random ขนาดหมากของ player return เป็น 3,2,1\n",
        "  * อาจจะเกิด error ได้ถ้า ไม่เข้า if ไหนเลย\n"
      ],
      "metadata": {
        "id": "cCeMio9iQQPV"
      }
    },
    {
      "cell_type": "code",
      "source": [
        "def select_move_size(player_info):\n",
        "    choices = []\n",
        "    if player_info.big_moves_used < player_info.big_move_limit:\n",
        "        choices.append(3)\n",
        "    if player_info.medium_moves_used < player_info.medium_move_limit:\n",
        "        choices.append(2)\n",
        "    if player_info.small_moves_used < player_info.small_move_limit:\n",
        "        choices.append(1)\n",
        "    return random.choice(choices)"
      ],
      "metadata": {
        "id": "V1M-7vNhNiV9"
      },
      "execution_count": null,
      "outputs": []
    },
    {
      "cell_type": "markdown",
      "source": [
        "* find_winner_by_count_player ไว้รับว่าหมากใครมากกว่ากันในกระดาน return เป็น 'X' กับ 'O' (ไว้เช็คคนชนะตอนท้าย)"
      ],
      "metadata": {
        "id": "2fD6G-KHQith"
      }
    },
    {
      "cell_type": "code",
      "source": [
        "def find_winner_by_count_player(board):\n",
        "    countX = 0\n",
        "    countY = 0\n",
        "    for player in board:\n",
        "        if player == 'X':\n",
        "            countX += 1\n",
        "        else:\n",
        "            countY += 1\n",
        "    return 'X' if countX > countY else 'O'"
      ],
      "metadata": {
        "id": "dwxNPbrZV7Bn"
      },
      "execution_count": null,
      "outputs": []
    },
    {
      "cell_type": "markdown",
      "source": [
        "# Simulate game\n",
        "\n",
        "\n",
        "* เล่นเกมจนผ่าน\n",
        "* return เป็นผู้ชนะ ('X', 'O', None)\n",
        "* เป็น None ถ้าไม่มีผู้ชนะ (อันนี้ไม่ควรเกิดขึ้น เพราะ แก้เป็นนับจำนวนหมากแทน)\n",
        "* แก้ PlayeInfo เพื่อ balance เกม\n",
        "\n"
      ],
      "metadata": {
        "id": "Nj3NjsQXQ8rT"
      }
    },
    {
      "cell_type": "code",
      "source": [
        "def simulate_game():\n",
        "    board = [\n",
        "        [' ', ' ', ' '],\n",
        "        [' ', ' ', ' '],\n",
        "        [' ', ' ', ' ']\n",
        "    ]\n",
        "\n",
        "    move_sizes = [\n",
        "        [0, 0, 0],\n",
        "        [0, 0, 0],\n",
        "        [0, 0, 0]\n",
        "    ]\n",
        "\n",
        "    player1 = 'X'\n",
        "    player2 = 'O'\n",
        "    current_player = player1\n",
        "\n",
        "    # Change this section for tuning parameter\n",
        "    # TODO - Refactor by Extract this part as parameters\n",
        "    # player 1 is starter\n",
        "    # ***********************************************************************************************\n",
        "    # EDIT THIS PART TO BALANCE GAME\n",
        "    # ***********************************************************************************************\n",
        "    player1_info = PlayerInfo(big_move_limit=2, medium_move_limit=3, small_move_limit=3,\n",
        "                              big_moves_used=0, medium_moves_used=0, small_moves_used=0)\n",
        "\n",
        "    # player 2\n",
        "    player2_info = PlayerInfo(big_move_limit=2, medium_move_limit=3, small_move_limit=3,\n",
        "                              big_moves_used=0, medium_moves_used=0, small_moves_used=0)\n",
        "    # ***********************************************************************************************\n",
        "\n",
        "    # Maximum 9 moves on a 3x3 board, if it's normal Tig tag toe\n",
        "    # but now it's 16, Because we can replace other mark with bigger one\n",
        "    for k in range(16):\n",
        "        # get all cells that empty\n",
        "        empty_cells = [(i, j) for i in range(3) for j in range(3) if board[i][j] == ' ']\n",
        "\n",
        "        # if no empty cells mean game ended then find winner\n",
        "        if not empty_cells:\n",
        "            winner = find_winner_by_count_player(board)\n",
        "            return winner\n",
        "\n",
        "        # assign player info for this turn\n",
        "        current_player_info = player1_info if current_player == player1 else player2_info\n",
        "\n",
        "        # select move based on what player can choose\n",
        "        move_size = select_move_size(current_player_info)\n",
        "\n",
        "        # if first turn select medium size\n",
        "        if k == 1:\n",
        "          move_size = 2\n",
        "\n",
        "        all_cells = select_movable_cell(board, move_sizes, move_size, current_player)\n",
        "\n",
        "        # if can't not play then random again until playable\n",
        "        while not all_cells:\n",
        "            move_size = move_size = select_move_size(current_player_info)\n",
        "            all_cells = select_movable_cell(board, move_sizes, move_size, current_player)\n",
        "\n",
        "        # random play\n",
        "        row, col = random.choice(all_cells)\n",
        "\n",
        "        # Handle the chosen move size\n",
        "        if move_size == 3:  # Big\n",
        "            # can play big move? (this condition is unnecessary because we already checked in select_movable_cell)\n",
        "            # TODO - remove this but don't remove \"current_player_info.big_moves_used += 1\"\n",
        "            if current_player_info.big_moves_used < current_player_info.big_move_limit and move_sizes[row][col] < 3:\n",
        "                board[row][col] = current_player\n",
        "                current_player_info.big_moves_used += 1\n",
        "        elif move_size == 2:  # Medium\n",
        "            # can play Medium move? (this condition is unnecessary because we already checked in select_movable_cell)\n",
        "            # TODO - remove this but don't remove \"current_player_info.medium_moves_used += 1\"\n",
        "            if current_player_info.medium_moves_used < current_player_info.medium_move_limit and move_sizes[row][col] < 2:\n",
        "                board[row][col] = current_player\n",
        "                move_sizes[row][col] = 2\n",
        "                current_player_info.medium_moves_used += 1\n",
        "        else:  # Small\n",
        "            # can play Small move? (this condition is unnecessary because we already checked in select_movable_cell)\n",
        "            # TODO - remove this but don't remove \"current_player_info.small_moves_used += 1\"\n",
        "            if board[row][col] == ' ' and current_player_info.small_moves_used < current_player_info.small_move_limit:\n",
        "                board[row][col] = current_player\n",
        "                move_sizes[row][col] = 1\n",
        "                current_player_info.small_moves_used += 1\n",
        "\n",
        "        # check winner after play\n",
        "        winner = check_winner(board)\n",
        "        if winner:\n",
        "            return winner\n",
        "\n",
        "        # next turn, Change player\n",
        "        current_player = player2 if current_player == player1 else player1\n",
        "\n",
        "    # End game after play then Find winner\n",
        "    return find_winner_by_count_player(board)"
      ],
      "metadata": {
        "id": "yUWI7E6H6iU4"
      },
      "execution_count": null,
      "outputs": []
    },
    {
      "cell_type": "markdown",
      "source": [
        "# calculate_win_rates_simulated\n",
        "for count winner\n",
        "\n",
        "\n",
        "*   num_simulations คือ จำนวนเกมที่จะเล่น\n",
        "*   ยิ่งเล่นหลายเกมยิ่งแม่น\n",
        "*   ลองเล่นแบบ XO ปกติแล้วตรงกับที่มีคนคำนวนไว้พอดี http://people.missouristate.edu/lesreid/sol10_04.html\n",
        "\n"
      ],
      "metadata": {
        "id": "1toyrMkLUuod"
      }
    },
    {
      "cell_type": "code",
      "source": [
        "def calculate_win_rates_simulated(num_simulations):\n",
        "    player1_wins = 0\n",
        "    player2_wins = 0\n",
        "    draws = 0\n",
        "\n",
        "    for _ in range(num_simulations):\n",
        "        result = simulate_game()\n",
        "        if result == 'X':\n",
        "            player1_wins += 1\n",
        "        elif result == 'O':\n",
        "            player2_wins += 1\n",
        "        else:\n",
        "            draws += 1\n",
        "\n",
        "    player1_win_rate = player1_wins / num_simulations\n",
        "    player2_win_rate = player2_wins / num_simulations\n",
        "    draw_rate = draws / num_simulations\n",
        "\n",
        "    return player1_win_rate, player2_win_rate, draw_rate"
      ],
      "metadata": {
        "id": "9Gd2ziEH6j2q"
      },
      "execution_count": null,
      "outputs": []
    },
    {
      "cell_type": "code",
      "source": [
        "num_simulations = 100000  # Adjust the number of simulations as needed\n",
        "player1_win_rate, player2_win_rate, draw_rate = calculate_win_rates_simulated(num_simulations)\n",
        "print(\"Player 1 Win Rate:\", player1_win_rate)\n",
        "print(\"Player 2 Win Rate:\", player2_win_rate)\n",
        "print(\"Draw Rate:\", draw_rate)"
      ],
      "metadata": {
        "colab": {
          "base_uri": "https://localhost:8080/"
        },
        "id": "vvV7LZ-N6k4R",
        "outputId": "0e6ab31c-bc0d-4334-bc0e-ec2f996b36e9"
      },
      "execution_count": null,
      "outputs": [
        {
          "output_type": "stream",
          "name": "stdout",
          "text": [
            "Player 1 Win Rate: 0.56149\n",
            "Player 2 Win Rate: 0.43851\n",
            "Draw Rate: 0.0\n"
          ]
        }
      ]
    },
    {
      "cell_type": "markdown",
      "source": [
        "# In conclusion\n",
        "\n",
        "\n",
        "*   ยังไม่มีทางที่จะได้ Fair game (50:50 winning rate)\n",
        "  * แต่สามารถหา win rate ที่ใกล้เคียง 50 ได้\n",
        "  * โดยคนแรกจะมีโอกาสชนะมากกว่า ประมาณ 5% (ไม่มีทางเสมอ)\n",
        "  * เมื่อเทียบกับ Tig tag toe ปกติที่ต่างกันถึง 18%(รวมเสมอ) - 30%(ไม่รวมเสมอ)\n",
        "*   สิ่งที่ได้ลองไปแล้ว\n",
        "  *  พบว่าหมากใหญ่สุดคือ advantage ที่สำคัญสุด\n",
        "  *  Ratio ที่ใกล้เคียง 50% ที่สุดคือ\n",
        "    * คนแรกได้ หมากใหญ่ = 1, หมากกลาง = 3, หมากเล็ก = 4 (ย้ายอันใหญ่มาเป็นอันเล็ก)\n",
        "    * คนสองได้ หมากใหญ่ = 2, หมากกลาง = 3, หมากเล็ก = 3 (ใหญ่ 2 เผื่อแก้เกม)\n",
        "*   สิ่งที่ยังไม่ได้ลอง และ น่าจะ improve ได้\n",
        "  * เพิ่มขนาดบอร์ดเป็น 5x5? (เพิ่ม ความเป็นไปได้ แต่ไม่แน่ใจว่าลดความต่าง winning rate ไหม)\n",
        "  * (idk ยังคิดไม่ออก)\n",
        "*   ความคิดเห็น\n",
        "  * เหมาะมากที่จะเป็น mini game มากกว่าที่จะเป็น standalone (Zoom-out pivot)\n",
        "  * ความเป็นไปได้ สำหรับคนเล่นเป็นแล้ว มันจะน้อยทำให้เบื่อง่าย รึเปล่า? (More features)\n",
        "      * อาจจะต้องมีตัวแปรอื่นเพิ่ม? (เพิ่มบางอย่างเข้าไป)"
      ],
      "metadata": {
        "id": "tWY-qL74VNkr"
      }
    },
    {
      "cell_type": "markdown",
      "source": [
        "# Minimax Implementation"
      ],
      "metadata": {
        "id": "1BPA5yRGhzCe"
      }
    },
    {
      "cell_type": "code",
      "source": [
        "import sys\n",
        "import random"
      ],
      "metadata": {
        "id": "rUxh2Cab6lkK"
      },
      "execution_count": null,
      "outputs": []
    },
    {
      "cell_type": "code",
      "source": [
        "# The TicTacToe board is represented as a list of lists (3x3 grid)\n",
        "# Empty cells are represented as ' ', X and O represent the players\n",
        "board = [[' ' for _ in range(3)] for _ in range(3)]\n",
        "board_size = [[0 for _ in range(3)] for _ in range(3)]\n",
        "X_sizes = [3, 3, 2]\n",
        "O_sizes = [3, 3, 2]\n",
        "\n",
        "transposition_table = {}"
      ],
      "metadata": {
        "id": "pAAVWE4dh6Bz"
      },
      "execution_count": null,
      "outputs": []
    },
    {
      "cell_type": "code",
      "source": [
        "# Function to print the current state of the board\n",
        "def print_board(board, board_size):\n",
        "    for row in board:\n",
        "        print('|'.join(row))\n",
        "        print('-' * 5)\n",
        "    for row in board_size:\n",
        "        print('|'.join(str(row)))\n",
        "        print('-' * 5)"
      ],
      "metadata": {
        "id": "Edx9DvGPiTL-"
      },
      "execution_count": null,
      "outputs": []
    },
    {
      "cell_type": "code",
      "source": [
        "def get_possible_size(current_sizes, validate):\n",
        "    size_availables = []\n",
        "    for i in range(3):\n",
        "      if current_sizes[i] > 0:\n",
        "          size_availables.append(i + 1)\n",
        "\n",
        "    if validate:\n",
        "        return size_availables\n",
        "\n",
        "    # ************ Write you rule to pick size here **************\n",
        "    # enable 2 size for find more win possibilities\n",
        "    # if  sum(X_sizes) < 6:\n",
        "    #     return size_availables[-2:]\n",
        "\n",
        "    if sum(X_sizes) > 6:\n",
        "        return [size_availables[1]]\n",
        "\n",
        "    if  sum(X_sizes) < 5:\n",
        "        return size_availables\n",
        "\n",
        "    # default return only 1 size for fast finding\n",
        "    if len(size_availables) > 0:\n",
        "        return size_availables[-2:]\n",
        "    return size_availables"
      ],
      "metadata": {
        "id": "rB408iuMlYQT"
      },
      "execution_count": null,
      "outputs": []
    },
    {
      "cell_type": "code",
      "source": [
        "def find_choices(board, board_size, side, current_sizes, validate=False):\n",
        "    available_choices = []\n",
        "    possible_size = get_possible_size(current_sizes, validate)\n",
        "    for p_size in possible_size:\n",
        "        for row in range(3):\n",
        "            for col in range(3):\n",
        "                isOwnMark = board[row][col] == side\n",
        "                canPlace = board_size[row][col] < p_size\n",
        "                sizeBlock = (p_size - 1) * 9\n",
        "                rowBlock = row * 3\n",
        "                if not isOwnMark and canPlace:\n",
        "                    available_choices.append(sizeBlock + rowBlock + col)\n",
        "    return available_choices"
      ],
      "metadata": {
        "id": "jpDSxRqEkTGF"
      },
      "execution_count": null,
      "outputs": []
    },
    {
      "cell_type": "code",
      "source": [
        "# Function to check if the board is full\n",
        "def is_board_full(side, current_sizes):\n",
        "    choices = find_choices(board, board_size, side, current_sizes, validate=True)\n",
        "    can_place_somewhere = len(choices) > 0\n",
        "\n",
        "    # is can't replace any mark\n",
        "    return not can_place_somewhere\n",
        "    # return all(cell != ' ' for row in board for cell in row)"
      ],
      "metadata": {
        "id": "x3EAPWMziU3w"
      },
      "execution_count": null,
      "outputs": []
    },
    {
      "cell_type": "code",
      "source": [
        "# Function to check if a player has won\n",
        "def is_winner(player):\n",
        "    # Check rows, columns, and diagonals\n",
        "    for i in range(3):\n",
        "        if all(board[i][j] == player for j in range(3)) or \\\n",
        "           all(board[j][i] == player for j in range(3)):\n",
        "            return True\n",
        "    if all(board[i][i] == player for i in range(3)) or \\\n",
        "       all(board[i][2 - i] == player for i in range(3)):\n",
        "        return True\n",
        "    return False"
      ],
      "metadata": {
        "id": "emGit06LiWjF"
      },
      "execution_count": null,
      "outputs": []
    },
    {
      "cell_type": "code",
      "source": [
        "def check_draw_win(player):\n",
        "    target = 0\n",
        "    for i in range(3):\n",
        "        for j in range(3):\n",
        "            if board[i][j] == player:\n",
        "                target += 1\n",
        "    return target > 4"
      ],
      "metadata": {
        "id": "O7BSlpLqtD87"
      },
      "execution_count": null,
      "outputs": []
    },
    {
      "cell_type": "code",
      "source": [
        "def get_hash_board():\n",
        "    return tuple([tuple(tuple(row) for row in board), tuple(tuple(row) for row in board_size)])"
      ],
      "metadata": {
        "id": "ra6hXBcwUJXv"
      },
      "execution_count": null,
      "outputs": []
    },
    {
      "cell_type": "code",
      "source": [
        "def minimax(depth, is_maximizing, alpha, beta):\n",
        "\n",
        "    # hash_board = get_hash_board()\n",
        "    # if hash_board in transposition_table:\n",
        "    #     return transposition_table[hash_board]\n",
        "\n",
        "    if is_winner('X'):\n",
        "        return -1\n",
        "    if is_winner('O'):\n",
        "        return 1\n",
        "    if is_board_full('O' if is_maximizing else 'X', O_sizes if is_maximizing else X_sizes):\n",
        "        return 0.5 if check_draw_win('O') else -0.5\n",
        "\n",
        "    if is_maximizing:\n",
        "        max_eval = -sys.maxsize\n",
        "        possible_choices = find_choices(board, board_size, 'O', O_sizes)\n",
        "        for p_choice in possible_choices:\n",
        "            select_size = int(p_choice / 9 + 1)\n",
        "            slot = p_choice % 9\n",
        "            row = int(slot / 3)\n",
        "            col = slot % 3\n",
        "\n",
        "            prev_size = board_size[row][col]\n",
        "            prev_side = board[row][col]\n",
        "\n",
        "            board[row][col] = 'O'\n",
        "            board_size[row][col] = select_size\n",
        "            O_sizes[select_size - 1] -= 1\n",
        "            eval = minimax(depth + 1, False, alpha, beta)\n",
        "\n",
        "            board[row][col] = prev_side\n",
        "            board_size[row][col] = prev_size\n",
        "            O_sizes[select_size - 1] += 1\n",
        "\n",
        "            max_eval = max(max_eval, eval)\n",
        "            alpha = max(alpha, eval)\n",
        "            if beta <= alpha:\n",
        "                break\n",
        "\n",
        "        # transposition_table[get_hash_board()] = max_eval\n",
        "        return max_eval\n",
        "\n",
        "        # for i in range(3):\n",
        "        #     for j in range(3):\n",
        "        #         if board[i][j] == ' ':\n",
        "        #             board[i][j] = 'O'\n",
        "        #             eval = minimax(depth + 1, False)\n",
        "        #             board[i][j] = ' '\n",
        "        #             max_eval = max(max_eval, eval)\n",
        "        # return max_eval\n",
        "    else:\n",
        "        min_eval = sys.maxsize\n",
        "        possible_choices = find_choices(board, board_size, 'X', X_sizes)\n",
        "        for p_choice in possible_choices:\n",
        "            select_size = int(p_choice / 9 + 1)\n",
        "            slot = p_choice % 9\n",
        "            row = int(slot / 3)\n",
        "            col = slot % 3\n",
        "\n",
        "            prev_size = board_size[row][col]\n",
        "            prev_side = board[row][col]\n",
        "\n",
        "            board[row][col] = 'X'\n",
        "            board_size[row][col] = select_size\n",
        "            X_sizes[select_size - 1] -= 1\n",
        "            eval = minimax(depth + 1, True, alpha, beta)\n",
        "\n",
        "            board[row][col] = prev_side\n",
        "            board_size[row][col] = prev_size\n",
        "            X_sizes[select_size - 1] += 1\n",
        "\n",
        "            min_eval = min(min_eval, eval)\n",
        "            beta = min(beta, eval)\n",
        "            if beta <= alpha:\n",
        "                break\n",
        "\n",
        "        # transposition_table[get_hash_board()] = min_eval\n",
        "        return min_eval"
      ],
      "metadata": {
        "id": "XWEiZkITiXxC"
      },
      "execution_count": null,
      "outputs": []
    },
    {
      "cell_type": "code",
      "source": [
        "# Function to find the best move using the Minimax algorithm\n",
        "def find_best_move():\n",
        "    best_move = None\n",
        "    best_eval = -sys.maxsize\n",
        "    alpha = -sys.maxsize\n",
        "    beta = sys.maxsize\n",
        "    possible_choices = find_choices(board, board_size, 'O', O_sizes)\n",
        "    print(O_sizes)\n",
        "    print(possible_choices)\n",
        "    eval_best_chocies = []\n",
        "    more_best_choices = []\n",
        "    for p_choice in possible_choices:\n",
        "        select_size = int(p_choice / 9 + 1)\n",
        "        slot = p_choice % 9\n",
        "        row = int(slot / 3)\n",
        "        col = slot % 3\n",
        "\n",
        "        prev_size = board_size[row][col]\n",
        "        prev_side = board[row][col]\n",
        "\n",
        "        board[row][col] = 'O'\n",
        "        board_size[row][col] = select_size\n",
        "        O_sizes[select_size - 1] -= 1\n",
        "        eval = minimax(0, False, alpha, beta)\n",
        "        eval_best_chocies.append(eval)\n",
        "        print(eval)\n",
        "\n",
        "        # if is choice make computer win so pick it... NOW!!!\n",
        "        is_instance_win = is_winner('O')\n",
        "\n",
        "        board[row][col] = prev_side\n",
        "        board_size[row][col] = prev_size\n",
        "        O_sizes[select_size - 1] += 1\n",
        "        more_best_choices.append((row, col, select_size))\n",
        "\n",
        "        if is_instance_win:\n",
        "            best_move = (row, col, select_size)\n",
        "            return best_move\n",
        "\n",
        "        if eval > best_eval:\n",
        "            best_eval = eval\n",
        "            best_move = (row, col, select_size)\n",
        "            # if best_eval == 1:\n",
        "            #     break\n",
        "\n",
        "    filtered_best_choices = []\n",
        "    for i in range(len(eval_best_chocies)):\n",
        "        if best_eval == eval_best_chocies[i]:\n",
        "            filtered_best_choices.append(more_best_choices[i])\n",
        "\n",
        "    if len(filtered_best_choices) > 1:\n",
        "        return random.choice(filtered_best_choices)\n",
        "\n",
        "    return best_move"
      ],
      "metadata": {
        "id": "kvTnLGJ4iZxc"
      },
      "execution_count": null,
      "outputs": []
    },
    {
      "cell_type": "code",
      "source": [
        "def play_game():\n",
        "    while not is_board_full('O', O_sizes) and not is_winner('X') and not is_winner('O'):\n",
        "        print_board(board, board_size)\n",
        "        player_row, player_col, size = map(int, input(\"Enter your move (row and column and size): \").split())\n",
        "\n",
        "        isOwnMark = board[player_row][player_col] == \"X\"\n",
        "        canPlace = board_size[player_row][player_col] < size\n",
        "\n",
        "        if not isOwnMark and canPlace and X_sizes[size - 1] > 0:\n",
        "            board[player_row][player_col] = 'X'\n",
        "            board_size[player_row][player_col] = size\n",
        "            X_sizes[size - 1] -= 1\n",
        "        else:\n",
        "            print(\"Invalid move. Try again.\")\n",
        "            continue\n",
        "\n",
        "        if is_board_full('X', X_sizes):\n",
        "            print_board(board, board_size)\n",
        "            print(\"It's a draw!\")\n",
        "            isWin = check_draw_win('X')\n",
        "            if isWin:\n",
        "                print(\"You win!\")\n",
        "            else:\n",
        "                print(\"Computer wins!\")\n",
        "            break\n",
        "\n",
        "        if is_winner('X'):\n",
        "            print_board(board, board_size)\n",
        "            print(\"You win!\")\n",
        "            break\n",
        "\n",
        "        if is_board_full('O', O_sizes):\n",
        "            print_board(board, board_size)\n",
        "            print(\"It's a draw!\")\n",
        "            isWin = check_draw_win('X')\n",
        "            if isWin:\n",
        "                print(\"You win!\")\n",
        "            else:\n",
        "                print(\"Computer wins!\")\n",
        "            break\n",
        "\n",
        "        print(\"Computer's turn...\")\n",
        "        computer_row, computer_col, computer_size = find_best_move()\n",
        "        board[computer_row][computer_col] = 'O'\n",
        "        board_size[computer_row][computer_col] = computer_size\n",
        "        O_sizes[computer_size - 1] -= 1\n",
        "\n",
        "        if is_winner('O'):\n",
        "            print_board(board, board_size)\n",
        "            print(\"Computer wins!\")\n",
        "            break\n",
        "\n",
        "    if is_board_full('X', X_sizes):\n",
        "        print(\"OSize:\")\n",
        "        print(O_sizes)\n",
        "        print(\"----\")\n",
        "        print_board(board, board_size)\n",
        "        print(\"It's a draw!\")\n",
        "        isWin = check_draw_win('X')\n",
        "        if isWin:\n",
        "            print(\"You win!\")\n",
        "        else:\n",
        "            print(\"Computer wins!\")"
      ],
      "metadata": {
        "id": "K_ktmBWuibCh"
      },
      "execution_count": null,
      "outputs": []
    },
    {
      "cell_type": "code",
      "source": [
        "# Start the game\n",
        "play_game()"
      ],
      "metadata": {
        "colab": {
          "base_uri": "https://localhost:8080/"
        },
        "id": "gJXcW6cricFD",
        "outputId": "da67a28c-b676-4377-a569-a078e0af2f0c"
      },
      "execution_count": null,
      "outputs": [
        {
          "output_type": "stream",
          "name": "stdout",
          "text": [
            " | | \n",
            "-----\n",
            " | | \n",
            "-----\n",
            " | | \n",
            "-----\n",
            "[|0|,| |0|,| |0|]\n",
            "-----\n",
            "[|0|,| |0|,| |0|]\n",
            "-----\n",
            "[|0|,| |0|,| |0|]\n",
            "-----\n",
            "Enter your move (row and column and size): 0 0 3\n",
            "Computer's turn...\n",
            "[3, 3, 2]\n",
            "[10, 11, 12, 13, 14, 15, 16, 17]\n",
            "-1\n",
            "-1\n",
            "-1\n",
            "-0.5\n",
            "1\n",
            "-1\n",
            "1\n",
            "1\n",
            "X| | \n",
            "-----\n",
            " | | \n",
            "-----\n",
            " |O| \n",
            "-----\n",
            "[|3|,| |0|,| |0|]\n",
            "-----\n",
            "[|0|,| |0|,| |0|]\n",
            "-----\n",
            "[|0|,| |2|,| |0|]\n",
            "-----\n",
            "Enter your move (row and column and size): 1 1 3\n",
            "Computer's turn...\n",
            "[3, 2, 2]\n",
            "[10, 11, 12, 14, 15, 17, 19, 20, 21, 23, 24, 26]\n",
            "-1\n",
            "-1\n",
            "-1\n",
            "-1\n",
            "-1\n",
            "1\n",
            "-1\n",
            "-1\n",
            "-1\n",
            "-1\n",
            "-1\n",
            "1\n",
            "X| | \n",
            "-----\n",
            " |X| \n",
            "-----\n",
            " |O|O\n",
            "-----\n",
            "[|3|,| |0|,| |0|]\n",
            "-----\n",
            "[|0|,| |3|,| |0|]\n",
            "-----\n",
            "[|0|,| |2|,| |2|]\n",
            "-----\n",
            "Enter your move (row and column and size): 2 0 2\n",
            "Computer's turn...\n",
            "[3, 1, 2]\n",
            "[10, 11, 12, 14, 19, 20, 21, 23, 24]\n",
            "-1\n",
            "-1\n",
            "-1\n",
            "-1\n",
            "-1\n",
            "-1\n",
            "-1\n",
            "-1\n",
            "1\n",
            "X| | \n",
            "-----\n",
            " |X| \n",
            "-----\n",
            "O|O|O\n",
            "-----\n",
            "[|3|,| |0|,| |0|]\n",
            "-----\n",
            "[|0|,| |3|,| |0|]\n",
            "-----\n",
            "[|3|,| |2|,| |2|]\n",
            "-----\n",
            "Computer wins!\n"
          ]
        }
      ]
    },
    {
      "cell_type": "markdown",
      "source": [
        "# Conclusion of Tic tac toe Eggy with Eggy from RO\n",
        "\n",
        "\n",
        "*   เราใช้ Code เดียวกันกับ Tic tac toe ธรรมดาแต่เพิ่ม Rules เข้าไป\n",
        "*   ตัวเกมมีความเป็นไปได้ที่มากกว่า Tic tac toe ปกติอย่างมาก\n",
        "  * การจะสร้าง Q-Table สำหรับ Q-Learning และ Reinforcement learning ต้องใช้ resouces สูงถึง 3 GB of Ram (แต่ถ้า optimize ด้วยการ Transpose Table จะเหลือ 1 GB)\n",
        "  * อย่างไรก็ตามกว่า Q-Table จะถูกเติมจนเต็มกว่า 40M ความเป็นไปได้ ก็ใช้เวลานานอย่างมาก\n",
        "  * เลยไปใช้ DeepQLearning เพิ่มแก้ปัญหาจำนวน State ที่เยอะ (ถึงจะบอกว่า DQN แต่จริงๆใช้ PPO ของ OpenAI)\n",
        "  * สิ่งที่ทำคือ\n",
        "      * สร้าง Agent 2 ตัวแข่งกัน ปรากฏว่า ตัวเริ่มก่อนจะเก่งจนชนะเสมอ อย่างมีนัยสำคัญ ส่วนอีกตัว Throw Game (ที่บอกว่า Throw game เพราะ ไม่ว่า predit action อะไรก็แพ้ หรือ reward ติดลบ จึงเลือก random choice อยู่ดี)\n",
        "      * เพื่อแก้ปัญหา Agent เก่งไม่ทันกัน เลยเอาไปแข่งกับ Random Agent เพื่อให้เกิดการเรียนรู้ กฎของเกมก่อน พบว่า AgentX (ตัวเริ่มก่อน) ได้คะแนนสูงกว่า AgentO (ตัวเริ่มหลัง) ถึง 2 เท่า แม้ model จะ Overfit แล้วก็ตาม\n",
        "  * ด้วยผลแบบนี้เลยสันนิษฐานว่า\n",
        "      * ความไม่ Balance ของเกมอาจมีผลต่อการเรียนรู้ของ Agent\n",
        "      * ยัง Train Agent ไม่พอ\n",
        "      * เกมมีความเป็นไปได้เยอะ และ Model เล็กเกินไป\n",
        "      * ความอยากรู้ของ Model อาจจะน้อยเกินไปจนไม่ได้ไป พบความเป็นไปได้ที่ทำให้ชนะ\n",
        "      * เกมที่แพ้อาจจะมีมากกว่าเกมที่ชนะมากเกินไป และ Batch Size ไม่พอทำให้ ติดอยู่ที่ local minima (อันนี้ไม่จริง เพิ่ม Batch Size แล้ว Overfit ไว้มากกลายเป็น เลือก choice ซ้ำๆแทน)\n",
        "      * **Model ไม่เจอคู่แข่งที่คู่ควรมากพอ**\n",
        "  * ในการทำ Tic tac toe Agent จะมีอีกรูปแบบนึงคือ\n",
        "      * Minimax ใช้ recursive เข้าไปดูความเป็นไปได้ที่จะชนะมากที่สุด\n",
        "      * แต่ด้วยความที่ความเป็นไปได้เยอะมาก จึงทำให้มันช้าสาดดดดด\n",
        "          * มีบอร์ดว่าง 8 ช่อง จะใช้เวลามากกว่า 30 นาทีในการหา 1 ช่อง (นานแค่ไหนไม่รู้ เพราะ รันไม่จบ 5555)\n",
        "      * เพื่อ Optimize ความเร็วเลย Fix ความเป็นไปได้ให้ใช้ 2 size ที่ขนาดใหญ่สุดก่อนเสมอ\n",
        "          * ลองรันหาความเป็นไปได้แล้วว่า ลง size เล็กสุดมีแต่แพ้ ด้วยการหา minimax\n",
        "          * ทำให้ speed up ได้ โดยจะสามารถหาคำตอบได้ที่ 30วิ - 1 นาทีต่อช่อง\n",
        "      * เพื่อ Alpha Beta เข้าไป เพื่อกำจัดการคำนวณที่ไม่จำเป็น\n",
        "          * ความเร็ว 5-10 วิ/คำตอบ\n",
        "      * ใช้ Caching\n",
        "          * ครั้งแรกจะนานหน่อย แต่หลังจากนั้น ใช้ไม่เกิน 1 วิ\n",
        "\n"
      ],
      "metadata": {
        "id": "KNYh_xegUtOH"
      }
    },
    {
      "cell_type": "code",
      "source": [],
      "metadata": {
        "id": "p_zIDOrVidOK"
      },
      "execution_count": null,
      "outputs": []
    }
  ]
}